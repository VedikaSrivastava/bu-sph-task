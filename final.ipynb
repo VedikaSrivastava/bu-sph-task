{
 "cells": [
  {
   "cell_type": "code",
   "execution_count": 1,
   "metadata": {},
   "outputs": [
    {
     "name": "stdout",
     "output_type": "stream",
     "text": [
      "Using device: cuda\n"
     ]
    }
   ],
   "source": [
    "import torch\n",
    "import scipy.io\n",
    "import numpy as np\n",
    "from torch_geometric.data import Data\n",
    "from pretrain_gnns.bio.model import GNN\n",
    "from torch.cuda.amp import GradScaler, autocast\n",
    "from tqdm import tqdm\n",
    "from sklearn.metrics import accuracy_score, f1_score\n",
    "import torch_geometric.transforms as T\n",
    "from torch.utils.checkpoint import checkpoint\n",
    "\n",
    "device = torch.device('cuda' if torch.cuda.is_available() else 'cpu')\n",
    "print(f\"Using device: {device}\")"
   ]
  },
  {
   "cell_type": "code",
   "execution_count": 2,
   "metadata": {},
   "outputs": [],
   "source": [
    "class CPUOffloadGraphSampler:\n",
    "    def __init__(self, data, batch_size):\n",
    "        self.data = data\n",
    "        self.batch_size = batch_size\n",
    "        self.num_nodes = data.x.size(0)\n",
    "\n",
    "    def __iter__(self):\n",
    "        node_indices = torch.randperm(self.num_nodes)\n",
    "        for i in range(0, self.num_nodes, self.batch_size):\n",
    "            batch_indices = node_indices[i:i+self.batch_size]\n",
    "            edge_mask = (self.data.edge_index[0].unsqueeze(1) == batch_indices.unsqueeze(0)).any(1)\n",
    "            batch_edge_index = self.data.edge_index[:, edge_mask]\n",
    "            batch_edge_attr = self.data.edge_attr[edge_mask]\n",
    "            \n",
    "            node_map = {int(idx.item()): i for i, idx in enumerate(batch_indices)}\n",
    "            batch_edge_index = torch.tensor([[node_map.get(int(idx.item()), -1) for idx in batch_edge_index[0]],\n",
    "                                             [node_map.get(int(idx.item()), -1) for idx in batch_edge_index[1]]], \n",
    "                                            dtype=torch.long)\n",
    "            \n",
    "            valid_edges = (batch_edge_index[0] != -1) & (batch_edge_index[1] != -1)\n",
    "            batch_edge_index = batch_edge_index[:, valid_edges]\n",
    "            batch_edge_attr = batch_edge_attr[valid_edges]\n",
    "            \n",
    "            batch_x = self.data.x[batch_indices]\n",
    "            batch_y = self.data.y[batch_indices]\n",
    "            \n",
    "            yield batch_indices, batch_x, batch_edge_index, batch_edge_attr, batch_y\n",
    "\n",
    "    def __len__(self):\n",
    "        return (self.num_nodes + self.batch_size - 1) // self.batch_size\n",
    "\n",
    "class MemoryEfficientGNN(GNN):\n",
    "    def forward(self, x, edge_index, edge_attr, batch_indices):\n",
    "        h_list = [x]\n",
    "        for layer in range(self.num_layer):\n",
    "            h = checkpoint(self.gnns[layer], h_list[layer], edge_index, edge_attr, use_reentrant=False)\n",
    "            if layer == self.num_layer - 1:\n",
    "                h = torch.nn.functional.dropout(h, self.drop_ratio, training=self.training)\n",
    "            else:\n",
    "                h = torch.nn.functional.dropout(torch.nn.functional.relu(h), self.drop_ratio, training=self.training)\n",
    "            h_list.append(h)\n",
    "\n",
    "        if self.JK == \"last\":\n",
    "            node_representation = h_list[-1]\n",
    "        elif self.JK == \"sum\":\n",
    "            node_representation = sum(h_list[1:])\n",
    "\n",
    "        return node_representation[batch_indices]\n",
    "    \n",
    "def load_graph_data(filepath):\n",
    "    data = scipy.io.loadmat(filepath)\n",
    "    x = torch.tensor(data['attrb'].todense(), dtype=torch.float32)\n",
    "    edge_index = torch.tensor(np.array(data['network'].nonzero()), dtype=torch.long)\n",
    "    edge_attr = torch.ones(edge_index.shape[1], 9)\n",
    "    y = torch.tensor(data['group'].argmax(axis=1).squeeze(), dtype=torch.long)\n",
    "    return Data(x=x, edge_index=edge_index, edge_attr=edge_attr, y=y)"
   ]
  },
  {
   "cell_type": "code",
   "execution_count": 3,
   "metadata": {},
   "outputs": [
    {
     "name": "stdout",
     "output_type": "stream",
     "text": [
      "Loading datasets...\n"
     ]
    }
   ],
   "source": [
    "print(\"Loading datasets...\")\n",
    "train_data = load_graph_data('acmv9.mat')\n",
    "test_data = load_graph_data('citationv1.mat')\n",
    "\n",
    "transform = T.NormalizeFeatures()\n",
    "train_data = transform(train_data)\n",
    "test_data = transform(test_data)"
   ]
  },
  {
   "cell_type": "code",
   "execution_count": 4,
   "metadata": {},
   "outputs": [
    {
     "name": "stdout",
     "output_type": "stream",
     "text": [
      "Loading pre-trained model...\n"
     ]
    }
   ],
   "source": [
    "print(\"Loading pre-trained model...\")\n",
    "num_node_features = train_data.num_node_features\n",
    "num_classes = train_data.y.max().item() + 1\n",
    "model = MemoryEfficientGNN(num_layer=5, emb_dim=300, JK=\"last\", drop_ratio=0.5, gnn_type='gin')\n",
    "model.load_state_dict(torch.load('pretrain_gnns/bio/model_gin/supervised.pth', map_location=device))\n",
    "model = model.to(device)\n",
    "\n",
    "model.classifier = torch.nn.Linear(300, num_classes).to(device)\n",
    "\n",
    "optimizer = torch.optim.Adam(model.parameters(), lr=0.0001)\n",
    "criterion = torch.nn.CrossEntropyLoss()\n",
    "scaler = GradScaler()"
   ]
  },
  {
   "cell_type": "code",
   "execution_count": 6,
   "metadata": {},
   "outputs": [
    {
     "name": "stdout",
     "output_type": "stream",
     "text": [
      "Starting training...\n"
     ]
    },
    {
     "name": "stderr",
     "output_type": "stream",
     "text": [
      "Epoch 1/3: 100%|██████████| 293/293 [23:45<00:00,  4.86s/it]\n"
     ]
    },
    {
     "name": "stdout",
     "output_type": "stream",
     "text": [
      "Epoch 1\n"
     ]
    },
    {
     "name": "stderr",
     "output_type": "stream",
     "text": [
      "Epoch 2/3: 100%|██████████| 293/293 [23:45<00:00,  4.86s/it]\n"
     ]
    },
    {
     "name": "stdout",
     "output_type": "stream",
     "text": [
      "Epoch 2\n"
     ]
    },
    {
     "name": "stderr",
     "output_type": "stream",
     "text": [
      "Epoch 3/3: 100%|██████████| 293/293 [28:21<00:00,  5.81s/it]"
     ]
    },
    {
     "name": "stdout",
     "output_type": "stream",
     "text": [
      "Epoch 3\n"
     ]
    },
    {
     "name": "stderr",
     "output_type": "stream",
     "text": [
      "\n"
     ]
    }
   ],
   "source": [
    "print(\"Starting training...\")\n",
    "model.train()\n",
    "num_epochs = 3\n",
    "batch_size = 32\n",
    "accumulation_steps = 256\n",
    "\n",
    "for epoch in range(num_epochs):\n",
    "    total_loss = 0\n",
    "    sampler = CPUOffloadGraphSampler(train_data, batch_size)\n",
    "    optimizer.zero_grad()\n",
    "    \n",
    "    for i, (batch_indices, batch_x, batch_edge_index, batch_edge_attr, batch_y) in enumerate(tqdm(sampler, desc=f\"Epoch {epoch+1}/{num_epochs}\")):\n",
    "        batch_x = batch_x.to(device)\n",
    "        batch_edge_index = batch_edge_index.to(device)\n",
    "        batch_edge_attr = batch_edge_attr.to(device)\n",
    "        batch_y = batch_y.to(device)\n",
    "        \n",
    "        with autocast():\n",
    "            node_representation = model(batch_x, batch_edge_index, batch_edge_attr, torch.arange(len(batch_indices)))\n",
    "            output = model.classifier(node_representation)\n",
    "            loss = criterion(output, batch_y)\n",
    "            loss = loss / accumulation_steps\n",
    "\n",
    "        scaler.scale(loss).backward()\n",
    "        total_loss += loss.item() * accumulation_steps\n",
    "\n",
    "        if (i + 1) % accumulation_steps == 0:\n",
    "            scaler.step(optimizer)\n",
    "            scaler.update()\n",
    "            optimizer.zero_grad()\n",
    "\n",
    "        del batch_x, batch_edge_index, batch_edge_attr, batch_y, node_representation, output\n",
    "        torch.cuda.empty_cache()\n",
    "    \n",
    "    print(f'Epoch {epoch+1}')"
   ]
  },
  {
   "cell_type": "code",
   "execution_count": 14,
   "metadata": {},
   "outputs": [
    {
     "name": "stdout",
     "output_type": "stream",
     "text": [
      "Evaluating model...\n"
     ]
    },
    {
     "name": "stderr",
     "output_type": "stream",
     "text": [
      "Evaluation: 100%|██████████| 280/280 [06:15<00:00,  1.34s/it]"
     ]
    },
    {
     "name": "stdout",
     "output_type": "stream",
     "text": [
      "Accuracy: 25.3162 %\n",
      "Weighted F1 Score: 0.1023\n"
     ]
    },
    {
     "name": "stderr",
     "output_type": "stream",
     "text": [
      "\n"
     ]
    }
   ],
   "source": [
    "print(\"Evaluating model...\")\n",
    "model.eval()\n",
    "all_preds = []\n",
    "all_labels = []\n",
    "\n",
    "with torch.no_grad():\n",
    "    sampler = CPUOffloadGraphSampler(test_data, batch_size)\n",
    "    for batch_indices, batch_x, batch_edge_index, batch_edge_attr, batch_y in tqdm(sampler, desc=\"Evaluation\"):\n",
    "        batch_x = batch_x.to(device)\n",
    "        batch_edge_index = batch_edge_index.to(device)\n",
    "        batch_edge_attr = batch_edge_attr.to(device)\n",
    "        \n",
    "        with autocast():\n",
    "            node_representation = model(batch_x, batch_edge_index, batch_edge_attr, torch.arange(len(batch_indices)))\n",
    "            output = model.classifier(node_representation)\n",
    "        \n",
    "        predictions = torch.argmax(output, dim=1)\n",
    "        all_preds.extend(predictions.cpu().numpy())\n",
    "        all_labels.extend(batch_y.numpy())\n",
    "\n",
    "        del batch_x, batch_edge_index, batch_edge_attr, node_representation, output\n",
    "        torch.cuda.empty_cache()\n",
    "\n",
    "accuracy = accuracy_score(all_labels, all_preds)\n",
    "f1 = f1_score(all_labels, all_preds, average='weighted')\n",
    "print(f'Accuracy: {accuracy * 100:.4f} %')\n",
    "print(f'Weighted F1 Score: {f1:.4f}')"
   ]
  }
 ],
 "metadata": {
  "kernelspec": {
   "display_name": "base",
   "language": "python",
   "name": "python3"
  },
  "language_info": {
   "codemirror_mode": {
    "name": "ipython",
    "version": 3
   },
   "file_extension": ".py",
   "mimetype": "text/x-python",
   "name": "python",
   "nbconvert_exporter": "python",
   "pygments_lexer": "ipython3",
   "version": "3.11.7"
  }
 },
 "nbformat": 4,
 "nbformat_minor": 2
}
